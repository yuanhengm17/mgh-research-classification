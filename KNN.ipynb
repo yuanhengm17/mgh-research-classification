{
 "cells": [
  {
   "cell_type": "code",
   "execution_count": 38,
   "id": "cd395c0c-2b50-4df7-af80-3b404a0647d1",
   "metadata": {},
   "outputs": [],
   "source": [
    "import firebase_admin\n",
    "import pandas as pd\n",
    "import numpy as np\n",
    "from firebase_admin import credentials, firestore\n",
    "from sklearn.neighbors import KNeighborsClassifier\n",
    "from sklearn.preprocessing import StandardScaler\n",
    "from sklearn.metrics import accuracy_score, classification_report\n",
    "from sklearn.model_selection import GridSearchCV, train_test_split\n",
    "from sklearn.pipeline import Pipeline\n",
    "from scipy.stats import skew, kurtosis\n",
    "\n",
    "# Firebase Initialization\n",
    "cred = credentials.Certificate(\"adminkey.json\")\n",
    "# firebase_admin.initialize_app(cred)\n",
    "db = firestore.client()\n",
    "\n",
    "# Constants\n",
    "INCLUDE_ONLY = ['Stephen', 'Lillian', 'Ren', 'Yuanheng', 'Ethan Shao']\n",
    "ACTIVITIES = ['sit', 'walk', 'upstair']\n",
    "LABEL_MAP = {activity: i for i, activity in enumerate(ACTIVITIES)}\n",
    "TIME_START, TIME_END = 500, 6000  \n",
    "CHUNK_SIZE = 1  # in seconds\n",
    "SAMPLING_RATE = 100  # Hz\n",
    "OVERLAP = 0.5  # 50% overlap"
   ]
  },
  {
   "cell_type": "code",
   "execution_count": 39,
   "id": "e2b9359b-938d-4d00-94a6-00362f80493a",
   "metadata": {},
   "outputs": [],
   "source": [
    "def extract_features(chunk):\n",
    "    \"\"\"Extract features from a chunked acceleration segment with additional statistics.\"\"\"\n",
    "    feature_vector = []\n",
    "    \n",
    "    for axis in ['x', 'y', 'z']:\n",
    "        data_series = pd.Series(chunk[axis])\n",
    "        # Apply smoothing\n",
    "        smoothed_data = data_series.rolling(window=5, min_periods=1).mean()\n",
    "        feature_vector.extend([\n",
    "            smoothed_data.mean(),                  # Mean\n",
    "            smoothed_data.std(),                   # Standard Deviation\n",
    "            smoothed_data.min(),                   # Minimum\n",
    "            smoothed_data.max(),                   # Maximum\n",
    "            smoothed_data.median(),                # Median\n",
    "            smoothed_data.max() - smoothed_data.min(),  # Range\n",
    "            skew(smoothed_data),                   # Skewness\n",
    "            kurtosis(smoothed_data)                # Kurtosis\n",
    "        ])\n",
    "    return feature_vector"
   ]
  },
  {
   "cell_type": "code",
   "execution_count": 40,
   "id": "1754242a-975d-4c6d-8663-1b70722a0f48",
   "metadata": {},
   "outputs": [],
   "source": [
    "def fetch_data(collection_name, activities, include_only):\n",
    "    \"\"\"Fetch raw data from Firestore.\"\"\"\n",
    "    data_raw, docs = [], []\n",
    "    \n",
    "    for person in db.collection(collection_name).stream():\n",
    "        person_name = str(person.to_dict().get('name', ''))\n",
    "        if person_name not in include_only:\n",
    "            continue\n",
    "\n",
    "        for activity in activities:\n",
    "            for recording in db.collection(collection_name).document(person_name).collection(activity).stream():\n",
    "                record = recording.to_dict()\n",
    "                if 'acceleration' not in record:\n",
    "                    continue\n",
    "\n",
    "                df = pd.DataFrame(record['acceleration'])\n",
    "                if 'time' in df.columns:\n",
    "                    df = df[(df['time'] >= TIME_START) & (df['time'] <= TIME_END)].drop(columns=['time'])\n",
    "                    data_raw.append(df)\n",
    "                    docs.append({'activity': activity})\n",
    "\n",
    "    return data_raw, docs\n",
    "training_data_raw, training_docs = fetch_data(\"training\", ACTIVITIES, INCLUDE_ONLY)\n",
    "testing_data_raw, testing_docs = fetch_data(\"testing\", ACTIVITIES, INCLUDE_ONLY)"
   ]
  },
  {
   "cell_type": "code",
   "execution_count": 41,
   "id": "c800272d-a0bd-4782-a2f5-5692abfa8773",
   "metadata": {},
   "outputs": [],
   "source": [
    "def chunk_data_with_overlap(data_raw, docs, chunk_size, activities, sampling_rate, overlap=0.5):\n",
    "    \"\"\"Chunk raw acceleration data into smaller labeled segments using overlapping windows.\"\"\"\n",
    "    data, labels = [], []\n",
    "    chunk_samples = int(chunk_size * sampling_rate)\n",
    "    step = int(chunk_samples * (1 - overlap))  # compute step size based on overlap\n",
    "\n",
    "    for i, df in enumerate(data_raw):\n",
    "        # Slide over the data with the defined step\n",
    "        for start in range(0, len(df) - chunk_samples + 1, step):\n",
    "            end = start + chunk_samples\n",
    "            chunk = df.iloc[start:end]\n",
    "            activity = docs[i]['activity']\n",
    "            label = activities.index(activity)\n",
    "            data.append(extract_features(chunk))\n",
    "            labels.append(label)\n",
    "    return np.array(data), np.array(labels)\n",
    "\n",
    "# Use overlapping window chunking\n",
    "X_train, y_train = chunk_data_with_overlap(training_data_raw, training_docs, CHUNK_SIZE, ACTIVITIES, SAMPLING_RATE, OVERLAP)\n",
    "X_test, y_test = chunk_data_with_overlap(testing_data_raw, testing_docs, CHUNK_SIZE, ACTIVITIES, SAMPLING_RATE, OVERLAP)"
   ]
  },
  {
   "cell_type": "code",
   "execution_count": 42,
   "id": "b97c2c52-ac7b-4e6d-af80-ce2ef3df41ee",
   "metadata": {},
   "outputs": [
    {
     "name": "stdout",
     "output_type": "stream",
     "text": [
      "Best Parameters: {'knn__metric': 'manhattan', 'knn__n_neighbors': 13, 'knn__weights': 'uniform'}\n"
     ]
    }
   ],
   "source": [
    "# Build a pipeline to scale data and train KNN\n",
    "pipeline = Pipeline([\n",
    "    ('scaler', StandardScaler()),\n",
    "    ('knn', KNeighborsClassifier())\n",
    "])\n",
    "\n",
    "# Define hyperparameter grid for GridSearchCV\n",
    "param_grid = {\n",
    "    'knn__n_neighbors': list(range(1, 16)),\n",
    "    'knn__metric': ['manhattan', 'euclidean'],\n",
    "    'knn__weights': ['uniform', 'distance']\n",
    "}\n",
    "\n",
    "# Use GridSearchCV for parameter tuning with cross-validation on training data\n",
    "grid_search = GridSearchCV(pipeline, param_grid, cv=5, scoring='accuracy')\n",
    "grid_search.fit(X_train, y_train)\n",
    "\n",
    "print(\"Best Parameters:\", grid_search.best_params_)"
   ]
  },
  {
   "cell_type": "code",
   "execution_count": 43,
   "id": "b4df3e9a-9353-4e00-8f93-daa7e604ef92",
   "metadata": {},
   "outputs": [
    {
     "name": "stdout",
     "output_type": "stream",
     "text": [
      "KNN Test Accuracy: 0.85\n",
      "              precision    recall  f1-score   support\n",
      "\n",
      "         sit       1.00      1.00      1.00       100\n",
      "        walk       0.88      0.65      0.75       100\n",
      "     upstair       0.72      0.91      0.81       100\n",
      "\n",
      "    accuracy                           0.85       300\n",
      "   macro avg       0.87      0.85      0.85       300\n",
      "weighted avg       0.87      0.85      0.85       300\n",
      "\n"
     ]
    }
   ],
   "source": [
    "# Evaluate the best model on the test set\n",
    "best_model = grid_search.best_estimator_\n",
    "y_pred = best_model.predict(X_test)\n",
    "accuracy = accuracy_score(y_test, y_pred)\n",
    "\n",
    "print(f\"KNN Test Accuracy: {accuracy:.2f}\")\n",
    "print(classification_report(y_test, y_pred, target_names=ACTIVITIES))"
   ]
  },
  {
   "cell_type": "code",
   "execution_count": 44,
   "id": "3cea98f8-a112-48e7-9935-172ce5da6646",
   "metadata": {},
   "outputs": [
    {
     "data": {
      "image/png": "[encoded data removed]",
      "text/plain": [
       "<Figure size 600x500 with 2 Axes>"
      ]
     },
     "metadata": {},
     "output_type": "display_data"
    }
   ],
   "source": [
    "import seaborn as sns\n",
    "import matplotlib.pyplot as plt\n",
    "from sklearn.metrics import confusion_matrix\n",
    "\n",
    "# Get actual labels present in y_test\n",
    "unique_labels = np.unique(y_test)\n",
    "filtered_activities = [ACTIVITIES[i] for i in unique_labels]\n",
    "\n",
    "# Create confusion matrix with filtered labels\n",
    "cm = confusion_matrix(y_test, y_pred, labels=unique_labels)\n",
    "\n",
    "# Plot the confusion matrix\n",
    "plt.figure(figsize=(6,5))\n",
    "sns.heatmap(cm, annot=True, fmt=\"d\", cmap=\"Blues\", xticklabels=filtered_activities, yticklabels=filtered_activities)\n",
    "plt.xlabel(\"Predicted Label\")\n",
    "plt.ylabel(\"True Label\")\n",
    "plt.title(\"Confusion Matrix\")\n",
    "plt.show()"
   ]
  },
  {
   "cell_type": "code",
   "execution_count": null,
   "id": "0694eaef-4178-4cc6-8af2-33cf6d37683c",
   "metadata": {},
   "outputs": [],
   "source": []
  }
 ],
 "metadata": {
  "kernelspec": {
   "display_name": "Python 3 (ipykernel)",
   "language": "python",
   "name": "python3"
  },
  "language_info": {
   "codemirror_mode": {
    "name": "ipython",
    "version": 3
   },
   "file_extension": ".py",
   "mimetype": "text/x-python",
   "name": "python",
   "nbconvert_exporter": "python",
   "pygments_lexer": "ipython3",
   "version": "3.11.9"
  }
 },
 "nbformat": 4,
 "nbformat_minor": 5
}
