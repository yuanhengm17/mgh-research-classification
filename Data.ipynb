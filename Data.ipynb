{
 "cells": [
  {
   "cell_type": "code",
   "execution_count": 4,
   "id": "9882590d-0628-433e-a22e-47788b9e0d5b",
   "metadata": {},
   "outputs": [
    {
     "ename": "SyntaxError",
     "evalue": "invalid syntax (204962442.py, line 1)",
     "output_type": "error",
     "traceback": [
      "\u001b[1;36m  Cell \u001b[1;32mIn[4], line 1\u001b[1;36m\u001b[0m\n\u001b[1;33m    python install_dependencies.py\u001b[0m\n\u001b[1;37m           ^\u001b[0m\n\u001b[1;31mSyntaxError\u001b[0m\u001b[1;31m:\u001b[0m invalid syntax\n"
     ]
    }
   ],
   "source": [
    "import firebase_admin\n",
    "import pandas as pd\n",
    "import numpy as np\n",
    "import matplotlib.pyplot as plt\n",
    "from firebase_admin import credentials, firestore\n",
    "import torch\n",
    "import torch.nn as nn\n",
    "import torch.nn.functional as F\n",
    "from torch.optim import SGD\n",
    "\n",
    "# Set PyTorch to use the CPU as the default device\n",
    "torch.set_default_device('cpu')"
   ]
  },
  {
   "cell_type": "code",
   "execution_count": null,
   "id": "6ec6a203-7b9d-4c20-a9b8-16955c2964b4",
   "metadata": {},
   "outputs": [],
   "source": [
    "# Firebase Initialization\n",
    "cred = credentials.Certificate(\"adminkey.json\")\n",
    "firebase_admin.initialize_app(cred)",
    "db = firestore.client()"
   ]
  },
  {
   "cell_type": "code",
   "execution_count": null,
   "id": "59c9419b-77cf-458d-a369-1482e69ad455",
   "metadata": {},
   "outputs": [],
   "source": [
    "# Constants\n",
    "INCLUDE_ONLY = ['Stephen']\n",
    "ACTIVITIES = ['walk', 'sit']\n",
    "CHUNK_SIZE = 2  # in seconds\n",
    "START_FROM, END_TO = 300, 300  # Trim first/last samples\n",
    "NUM_CLASSES = 5"
   ]
  },
  {
   "cell_type": "code",
   "execution_count": null,
   "id": "b6d1b2ce",
   "metadata": {},
   "outputs": [],
   "source": [
    "# Data Structures\n",
    "def fetch_data(collection_name, activities, include_only, start_from=300, end_to=300):\n",
    "    \"\"\"Fetch and preprocess data from Firestore.\"\"\"\n",
    "    data, docs = [], []\n",
    "    for person in db.collection(collection_name).stream():\n",
    "        person_name = str(person.to_dict().get('name', ''))\n",
    "        if person_name not in include_only:\n",
    "            continue\n",
    "\n",
    "        for activity in activities:\n",
    "            for recording in db.collection(collection_name).document(person_name).collection(activity).stream():\n",
    "                record = recording.to_dict()\n",
    "                if 'acceleration' not in record:\n",
    "                    continue\n",
    "\n",
    "                docs.append(record)\n",
    "                df = pd.DataFrame(record['acceleration'])[start_from:-end_to]\n",
    "                data.append(df)\n",
    "    return data, docs\n"
   ]
  },
  {
   "cell_type": "code",
   "execution_count": null,
   "id": "ec6c12fd",
   "metadata": {},
   "outputs": [],
   "source": [
    "# Fetch and preprocess training/testing data\n",
    "training_data_raw, training_docs = fetch_data(\"training\", ACTIVITIES, INCLUDE_ONLY)\n",
    "testing_data_raw, testing_docs = fetch_data(\"testing\", ACTIVITIES, INCLUDE_ONLY)"
   ]
  },
  {
   "cell_type": "code",
   "execution_count": null,
   "id": "12a24914",
   "metadata": {},
   "outputs": [],
   "source": [
    "# Chunking and Labeling\n",
    "def chunk_data(data_raw, docs, chunk_size, activities):\n",
    "    \"\"\"Split data into chunks and assign labels.\"\"\"\n",
    "    data, labels = [], []\n",
    "    activity_distribution = np.zeros(len(activities))\n",
    "\n",
    "    for i in range(len(data_raw)):\n",
    "        num_chunks = len(data_raw[i]) // (chunk_size * 100)\n",
    "        for j in range(num_chunks):\n",
    "            x = list(data_raw[i][\"x\"])[j * chunk_size * 100:(j + 1) * chunk_size * 100]\n",
    "            y = list(data_raw[i][\"y\"])[j * chunk_size * 100:(j + 1) * chunk_size * 100]\n",
    "            z = list(data_raw[i][\"z\"])[j * chunk_size * 100:(j + 1) * chunk_size * 100]\n",
    "            activity = docs[i]['activity']\n",
    "            label = activities.index(activity)\n",
    "\n",
    "            activity_distribution[label] += 1\n",
    "            data.append([x, y, z])\n",
    "            labels.append(label)\n",
    "\n",
    "    return data, labels, activity_distribution"
   ]
  },
  {
   "cell_type": "code",
   "execution_count": null,
   "id": "1f5e36a3",
   "metadata": {},
   "outputs": [],
   "source": [
    "# Chunk the data\n",
    "training_data, training_labels, training_distribution = chunk_data(training_data_raw, training_docs, CHUNK_SIZE, ACTIVITIES)\n",
    "testing_data, testing_labels, testing_distribution = chunk_data(testing_data_raw, testing_docs, CHUNK_SIZE, ACTIVITIES)"
   ]
  },
  {
   "cell_type": "code",
   "execution_count": null,
   "id": "b94804b2",
   "metadata": {},
   "outputs": [],
   "source": [
    "# Visualization Function\n",
    "def visualize_data(docs, data_raw):\n",
    "    for i in range(len(docs)):\n",
    "        plt.figure(i)\n",
    "        plt.plot(data_raw[i][\"time\"], data_raw[i][\"x\"], label=\"X axis\")\n",
    "        plt.plot(data_raw[i][\"time\"], data_raw[i][\"y\"], label=\"Y axis\")\n",
    "        plt.plot(data_raw[i][\"time\"], data_raw[i][\"z\"], label=\"Z axis\")\n",
    "        plt.plot(data_raw[i][\"time\"], np.sqrt(data_raw[i][\"x\"]**2 + data_raw[i][\"y\"]**2 + data_raw[i][\"z\"]**2), label=\"Magnitude\")\n",
    "        plt.title(f\"({docs[i]['activity']})\")\n",
    "        plt.xlabel(\"Time (ms)\")\n",
    "        plt.ylabel(\"Acceleration (g)\")\n",
    "        plt.legend()\n",
    "    plt.show()"
   ]
  },
  {
   "cell_type": "code",
   "execution_count": null,
   "id": "b537c557",
   "metadata": {},
   "outputs": [],
   "source": [
    "visualize_data(training_docs, training_data_raw)"
   ]
  }
 ],
 "metadata": {
  "kernelspec": {
   "display_name": "Python 3 (ipykernel)",
   "language": "python",
   "name": "python3"
  },
  "language_info": {
   "codemirror_mode": {
    "name": "ipython",
    "version": 3
   },
   "file_extension": ".py",
   "mimetype": "text/x-python",
   "name": "python",
   "nbconvert_exporter": "python",
   "pygments_lexer": "ipython3",
   "version": "3.8.0"
  }
 },
 "nbformat": 4,
 "nbformat_minor": 5
}
