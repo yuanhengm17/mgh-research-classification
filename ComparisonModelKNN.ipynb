{
 "cells": [
  {
   "cell_type": "code",
   "execution_count": 1,
   "id": "d515e3f3-3cb8-4d4d-be9d-75c94104b64a",
   "metadata": {},
   "outputs": [],
   "source": [
    "import firebase_admin\n",
    "import pandas as pd\n",
    "import numpy as np\n",
    "from firebase_admin import credentials, firestore\n",
    "from sklearn.neighbors import KNeighborsClassifier\n",
    "from sklearn.preprocessing import StandardScaler\n",
    "from sklearn.metrics import accuracy_score, classification_report, confusion_matrix\n",
    "from sklearn.model_selection import train_test_split\n",
    "import matplotlib.pyplot as plt\n",
    "import seaborn as sns\n",
    "\n",
    "cred = credentials.Certificate(\"adminkey.json\")\n",
    "firebase_admin.initialize_app(cred)\n",
    "db = firestore.client()\n",
    "\n",
    "INCLUDE_ONLY = ['55555']\n",
    "ACTIVITIES = ['sit', 'walk', 'stairs']\n",
    "SAMPLING_RATE = 100\n",
    "OVERLAP = 0.5\n",
    "CHUNK_SIZE = 1\n",
    "DIFF_THRESHOLD = 35"
   ]
  },
  {
   "cell_type": "code",
   "execution_count": 2,
   "id": "3f693bbc-bcda-4c4c-b1f3-de87871ebf63",
   "metadata": {},
   "outputs": [],
   "source": [
    "def fetch_data_by_treatment(treatment_filter):\n",
    "    data_raw, docs = [], []\n",
    "    data_ref = db.collection(\"data\").document(treatment_filter)\n",
    "    for patient_id in INCLUDE_ONLY:\n",
    "        subject_ref = data_ref.collection(patient_id)\n",
    "        for activity in ACTIVITIES:\n",
    "            activity_ref = subject_ref.document(activity)\n",
    "            phone_location_col = activity_ref.collections()\n",
    "            for phone_location in phone_location_col:\n",
    "                for recording in phone_location.stream():\n",
    "                    record = recording.to_dict()\n",
    "                    if 'acceleration' not in record:\n",
    "                        continue\n",
    "                    df = pd.DataFrame(record['acceleration'])\n",
    "                    timestamps = df['timestamp']\n",
    "                    min_time = timestamps.min()\n",
    "                    max_time = timestamps.max()\n",
    "                    df = df[(timestamps >= min_time + 2500) & (timestamps <= max_time - 2500)]\n",
    "                    if df.empty:\n",
    "                        continue\n",
    "                    combined = pd.DataFrame({\n",
    "                        'ax': df['accelerometer'].apply(lambda x: x['x']),\n",
    "                        'ay': df['accelerometer'].apply(lambda x: x['y']),\n",
    "                        'az': df['accelerometer'].apply(lambda x: x['z']),\n",
    "                        'gx': df['gyroscope'].apply(lambda x: x['x']),\n",
    "                        'gy': df['gyroscope'].apply(lambda x: x['y']),\n",
    "                        'gz': df['gyroscope'].apply(lambda x: x['z']),\n",
    "                    })\n",
    "                    data_raw.append(combined)\n",
    "                    docs.append({'activity': activity})\n",
    "    return data_raw, docs\n",
    "\n",
    "def chunk_and_extract_features(data_raw, docs, chunk_size_sec, sampling_rate, overlap=OVERLAP):\n",
    "    features, labels = [], []\n",
    "    chunk_samples = int(chunk_size_sec * sampling_rate)\n",
    "    step = int(chunk_samples * (1 - overlap))\n",
    "    for i, df in enumerate(data_raw):\n",
    "        for start in range(0, len(df) - chunk_samples + 1, step):\n",
    "            chunk = df.iloc[start:start + chunk_samples]\n",
    "            feats = []\n",
    "            for col in chunk.columns:\n",
    "                feats.extend([\n",
    "                    chunk[col].mean(), chunk[col].std(), chunk[col].min(), chunk[col].max(), chunk[col].median()\n",
    "                ])\n",
    "            features.append(feats)\n",
    "            labels.append(ACTIVITIES.index(docs[i]['activity']))\n",
    "    return np.array(features), np.array(labels)"
   ]
  },
  {
   "cell_type": "code",
   "execution_count": 3,
   "id": "a15e50cd-dea6-41c4-a620-7a01b840c614",
   "metadata": {},
   "outputs": [],
   "source": [
    "def train_and_test_knn():\n",
    "    before_raw, before_docs = fetch_data_by_treatment('BeforeTreatment')\n",
    "    X_train_full, y_train_full = chunk_and_extract_features(before_raw, before_docs, CHUNK_SIZE, SAMPLING_RATE, OVERLAP)\n",
    "\n",
    "    after_raw, after_docs = fetch_data_by_treatment('AfterTreatment')\n",
    "    X_test, y_test = chunk_and_extract_features(after_raw, after_docs, CHUNK_SIZE, SAMPLING_RATE, OVERLAP)\n",
    "\n",
    "    scaler = StandardScaler()\n",
    "    X_train_scaled = scaler.fit_transform(X_train_full)\n",
    "    X_test_scaled = scaler.transform(X_test)\n",
    "\n",
    "    knn = KNeighborsClassifier(n_neighbors=3)\n",
    "    knn.fit(X_train_scaled, y_train_full)\n",
    "\n",
    "    train_acc = knn.score(X_train_scaled, y_train_full) * 100\n",
    "    y_pred = knn.predict(X_test_scaled)\n",
    "    test_acc = accuracy_score(y_test, y_pred) * 100\n",
    "\n",
    "    print(f\"Train Accuracy: {train_acc:.2f}% | Test Accuracy (AfterTreatment): {test_acc:.2f}%\")\n",
    "    print(classification_report(y_test, y_pred, target_names=ACTIVITIES))\n",
    "\n",
    "    cm = confusion_matrix(y_test, y_pred)\n",
    "    plt.figure(figsize=(6,5))\n",
    "    sns.heatmap(cm, annot=True, fmt='d', cmap='Blues', xticklabels=ACTIVITIES, yticklabels=ACTIVITIES)\n",
    "    plt.title('KNN Test Confusion Matrix')\n",
    "    plt.show()\n",
    "\n",
    "    acc_diff = abs(train_acc - test_acc)\n",
    "    if acc_diff >= DIFF_THRESHOLD:\n",
    "        print(f\"Train-Test accuracy differs by {acc_diff:.2f}%, exceeds threshold. Data is different before vs after.\")\n",
    "    else:\n",
    "        print(f\"Train-Test accuracy differs by only {acc_diff:.2f}%, within threshold. Data is similar before vs after.\")"
   ]
  },
  {
   "cell_type": "code",
   "execution_count": 5,
   "id": "afbd7027-7fa1-4199-9ba0-c061fe39cb76",
   "metadata": {},
   "outputs": [
    {
     "name": "stdout",
     "output_type": "stream",
     "text": [
      "Train Accuracy: 95.00% | Test Accuracy (AfterTreatment): 58.96%\n",
      "              precision    recall  f1-score   support\n",
      "\n",
      "         sit       1.00      0.66      0.80        74\n",
      "        walk       0.49      0.48      0.48        98\n",
      "      stairs       0.49      0.66      0.56        79\n",
      "\n",
      "    accuracy                           0.59       251\n",
      "   macro avg       0.66      0.60      0.61       251\n",
      "weighted avg       0.64      0.59      0.60       251\n",
      "\n"
     ]
    },
    {
     "data": {
      "image/png": "[encoded data removed]",
      "text/plain": [
       "<Figure size 600x500 with 2 Axes>"
      ]
     },
     "metadata": {},
     "output_type": "display_data"
    },
    {
     "name": "stdout",
     "output_type": "stream",
     "text": [
      "Train-Test accuracy differs by 36.04%, exceeds threshold. Data is different before vs after.\n"
     ]
    }
   ],
   "source": [
    "if __name__ == \"__main__\":\n",
    "    train_and_test_knn()"
   ]
  },
  {
   "cell_type": "code",
   "execution_count": null,
   "id": "d4c5823a-a1df-4baa-9d22-43f70e3c629c",
   "metadata": {},
   "outputs": [],
   "source": []
  }
 ],
 "metadata": {
  "kernelspec": {
   "display_name": "Python 3 (ipykernel)",
   "language": "python",
   "name": "python3"
  },
  "language_info": {
   "codemirror_mode": {
    "name": "ipython",
    "version": 3
   },
   "file_extension": ".py",
   "mimetype": "text/x-python",
   "name": "python",
   "nbconvert_exporter": "python",
   "pygments_lexer": "ipython3",
   "version": "3.8.0"
  }
 },
 "nbformat": 4,
 "nbformat_minor": 5
}
