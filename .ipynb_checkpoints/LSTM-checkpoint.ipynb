{
 "cells": [
  {
   "cell_type": "code",
   "execution_count": 1,
   "id": "948906f3-de85-4ff8-aec9-ea703410da47",
   "metadata": {},
   "outputs": [],
   "source": [
    "import firebase_admin\n",
    "import pandas as pd\n",
    "import numpy as np\n",
    "import matplotlib.pyplot as plt\n",
    "from firebase_admin import credentials, firestore\n",
    "import torch\n",
    "import torch.nn as nn\n",
    "from torch.optim import Adam\n",
    "from torch.utils.data import DataLoader, TensorDataset"
   ]
  },
  {
   "cell_type": "code",
   "execution_count": 2,
   "id": "ac32cd46-1ce3-47b3-bf83-ca0c7e630699",
   "metadata": {},
   "outputs": [],
   "source": [
    "# Firebase Initialization\n",
    "cred = credentials.Certificate(\"adminkey.json\")\n",
    "firebase_admin.initialize_app(cred)\n",
    "db = firestore.client()"
   ]
  },
  {
   "cell_type": "code",
   "execution_count": 140,
   "id": "fb360a47-c877-4a61-8ba5-bd4a162a26ec",
   "metadata": {},
   "outputs": [],
   "source": [
    "# Constants\n",
    "INCLUDE_ONLY = ['Stephen','Lillian','Yuanheng','Ren','Ethan']\n",
    "ACTIVITIES = ['sit','walk','run','jump','upstair']\n",
    "CHUNK_SIZE = 2  # in seconds\n",
    "START_FROM, END_TO = 200, 300\n",
    "NUM_CLASSES = 5"
   ]
  },
  {
   "cell_type": "code",
   "execution_count": 141,
   "id": "ce44ee30-5faa-4eb2-81f1-721790121a1e",
   "metadata": {},
   "outputs": [],
   "source": [
    "# Data Structures\n",
    "def fetch_data(collection_name, activities, include_only, time_start=1500, time_end=7500):\n",
    "    \"\"\"Fetch and preprocess data from Firestore.\"\"\"\n",
    "    data, docs = [], []\n",
    "    for person in db.collection(collection_name).stream():\n",
    "        person_name = str(person.to_dict().get('name', ''))\n",
    "        if person_name not in include_only:\n",
    "            continue\n",
    "\n",
    "        for activity in activities:\n",
    "            for recording in db.collection(collection_name).document(person_name).collection(activity).stream():\n",
    "                record = recording.to_dict()\n",
    "                if 'acceleration' not in record:\n",
    "                    continue\n",
    "\n",
    "                docs.append(record)\n",
    "                # Convert the 'acceleration' field into a DataFrame\n",
    "                df = pd.DataFrame(record['acceleration'])\n",
    "                \n",
    "                if 'time' in df.columns:\n",
    "                    filtered_df = df[(df['time'] >= time_start) & (df['time'] <= time_end)]\n",
    "                    data.append(filtered_df)\n",
    "                else:\n",
    "                    raise ValueError(\"The 'acceleration' field must include a 'time' column.\")\n",
    "    return data, docs"
   ]
  },
  {
   "cell_type": "code",
   "execution_count": 142,
   "id": "866cec06-00db-4303-93a1-55f9eac9c8ea",
   "metadata": {},
   "outputs": [],
   "source": [
    "# Fetch and preprocess training/testing data\n",
    "training_data_raw, training_docs = fetch_data(\"training\", ACTIVITIES, INCLUDE_ONLY)\n",
    "testing_data_raw, testing_docs = fetch_data(\"testing\", ACTIVITIES, INCLUDE_ONLY)"
   ]
  },
  {
   "cell_type": "code",
   "execution_count": 143,
   "id": "39f453a0-e9ba-44ed-9a73-aa123fb70f41",
   "metadata": {},
   "outputs": [],
   "source": [
    "# Function to chunk data into smaller segments for training/testing\n",
    "def chunk_data(data_raw, docs, chunk_size, activities):\n",
    "    \"\"\"Split data into chunks and assign labels.\"\"\"\n",
    "    data, labels = [], []\n",
    "    activity_distribution = np.zeros(len(activities))\n",
    "\n",
    "    for i in range(len(data_raw)):\n",
    "        num_chunks = len(data_raw[i]) // (chunk_size * 100)\n",
    "        for j in range(num_chunks):\n",
    "            x = list(data_raw[i][\"x\"])[j * chunk_size * 100:(j + 1) * chunk_size * 100]\n",
    "            y = list(data_raw[i][\"y\"])[j * chunk_size * 100:(j + 1) * chunk_size * 100]\n",
    "            z = list(data_raw[i][\"z\"])[j * chunk_size * 100:(j + 1) * chunk_size * 100]\n",
    "            activity = docs[i]['activity']\n",
    "            label = activities.index(activity)\n",
    "\n",
    "            activity_distribution[label] += 1\n",
    "            data.append([x, y, z])\n",
    "            labels.append(label)\n",
    "\n",
    "    return data, labels, activity_distribution"
   ]
  },
  {
   "cell_type": "code",
   "execution_count": 144,
   "id": "1e18bead-6b8d-48f2-91cc-e8b5b8c8cd79",
   "metadata": {},
   "outputs": [],
   "source": [
    "# Chunk the data\n",
    "training_data, training_labels, training_distribution = chunk_data(training_data_raw, training_docs, CHUNK_SIZE, ACTIVITIES)\n",
    "testing_data, testing_labels, testing_distribution = chunk_data(testing_data_raw, testing_docs, CHUNK_SIZE, ACTIVITIES)"
   ]
  },
  {
   "cell_type": "code",
   "execution_count": 145,
   "id": "5d995828-e571-43f1-a0cb-457b9e5618a1",
   "metadata": {},
   "outputs": [],
   "source": [
    "# Convert to torch tensors\n",
    "X_train = torch.tensor(training_data, dtype=torch.float32)\n",
    "y_train = torch.tensor(training_labels, dtype=torch.long)\n",
    "X_test = torch.tensor(testing_data, dtype=torch.float32)\n",
    "y_test = torch.tensor(testing_labels, dtype=torch.long)"
   ]
  },
  {
   "cell_type": "code",
   "execution_count": 146,
   "id": "8ba9290c-1bec-45ee-b153-b23bc3814529",
   "metadata": {},
   "outputs": [],
   "source": [
    "# Reshape X_train and X_test to the correct format for LSTM (batch_size, seq_length, input_size)\n",
    "X_train = X_train.permute(0, 2, 1)  # Change shape from (22, 3, 200) to (22, 200, 3)\n",
    "X_test = X_test.permute(0, 2, 1)    # Same for testing data"
   ]
  },
  {
   "cell_type": "code",
   "execution_count": 147,
   "id": "fbc7b3ec-e45d-429d-b5a8-3fd11b566aea",
   "metadata": {},
   "outputs": [],
   "source": [
    "# Create TensorDataset and DataLoader for batching\n",
    "train_data = TensorDataset(X_train, y_train)\n",
    "test_data = TensorDataset(X_test, y_test)\n",
    "\n",
    "train_loader = DataLoader(train_data, batch_size=32, shuffle=True)\n",
    "test_loader = DataLoader(test_data, batch_size=32, shuffle=False)"
   ]
  },
  {
   "cell_type": "code",
   "execution_count": 148,
   "id": "c00dcc88-b129-4082-9759-61ad622b8687",
   "metadata": {},
   "outputs": [],
   "source": [
    "# Define the LSTM model\n",
    "class LSTMModel(nn.Module):\n",
    "    def __init__(self, input_size, hidden_size, num_classes):\n",
    "        super(LSTMModel, self).__init__()\n",
    "        self.lstm = nn.LSTM(input_size, hidden_size, batch_first=True)\n",
    "        self.fc = nn.Linear(hidden_size, num_classes)\n",
    "\n",
    "    def forward(self, x):\n",
    "        lstm_out, _ = self.lstm(x)  # lstm_out shape: (batch_size, seq_length, hidden_size)\n",
    "        last_time_step_out = lstm_out[:, -1, :]  # Get output from the last time step\n",
    "        out = self.fc(last_time_step_out)  # Fully connected layer for classification\n",
    "        return out"
   ]
  },
  {
   "cell_type": "code",
   "execution_count": 154,
   "id": "eac5cd94-cc29-41fc-8257-06536b920678",
   "metadata": {},
   "outputs": [],
   "source": [
    "# Initialize model, optimizer, and loss function\n",
    "model = LSTMModel(input_size=3, hidden_size=64, num_classes=NUM_CLASSES)\n",
    "optimizer = Adam(model.parameters(), lr=0.001)\n",
    "criterion = nn.CrossEntropyLoss()"
   ]
  },
  {
   "cell_type": "code",
   "execution_count": 155,
   "id": "d2e7f9d7-4c78-4d82-a924-86dbb705e641",
   "metadata": {},
   "outputs": [
    {
     "name": "stdout",
     "output_type": "stream",
     "text": [
      "Epoch [1/20], Loss: 1.6133\n",
      "Epoch [2/20], Loss: 1.5937\n",
      "Epoch [3/20], Loss: 1.5869\n",
      "Epoch [4/20], Loss: 1.5625\n",
      "Epoch [5/20], Loss: 1.5519\n",
      "Epoch [6/20], Loss: 1.5272\n",
      "Epoch [7/20], Loss: 1.5051\n",
      "Epoch [8/20], Loss: 1.4522\n",
      "Epoch [9/20], Loss: 1.3482\n",
      "Epoch [10/20], Loss: 1.3132\n",
      "Epoch [11/20], Loss: 1.3380\n",
      "Epoch [12/20], Loss: 1.2644\n",
      "Epoch [13/20], Loss: 1.3547\n",
      "Epoch [14/20], Loss: 1.4993\n",
      "Epoch [15/20], Loss: 1.3937\n",
      "Epoch [16/20], Loss: 1.3435\n",
      "Epoch [17/20], Loss: 1.2865\n",
      "Epoch [18/20], Loss: 1.2550\n",
      "Epoch [19/20], Loss: 1.2055\n",
      "Epoch [20/20], Loss: 1.1726\n"
     ]
    }
   ],
   "source": [
    "# Add a list to track the loss for each epoch\n",
    "losses = []\n",
    "\n",
    "# Training loop with batching\n",
    "epochs = 20  # Set the number of epochs\n",
    "\n",
    "for epoch in range(epochs):\n",
    "    model.train()\n",
    "    total_loss = 0\n",
    "\n",
    "    for batch_X, batch_y in train_loader:\n",
    "        optimizer.zero_grad()  # Clear previous gradients\n",
    "        \n",
    "        # Forward pass\n",
    "        outputs = model(batch_X)  # Pass the batch to the model\n",
    "        loss = criterion(outputs, batch_y)  # Calculate loss\n",
    "        \n",
    "        # Backward pass and optimization\n",
    "        loss.backward()  # Compute gradients\n",
    "        optimizer.step()  # Update weights\n",
    "        \n",
    "        total_loss += loss.item()  # Accumulate loss for reporting\n",
    "\n",
    "    # Calculate average loss for the epoch\n",
    "    avg_loss = total_loss / len(train_loader)\n",
    "    losses.append(avg_loss)  # Store the average loss for this epoch\n",
    "\n",
    "    # Print loss at the end of each epoch\n",
    "    print(f\"Epoch [{epoch+1}/{epochs}], Loss: {avg_loss:.4f}\")"
   ]
  },
  {
   "cell_type": "code",
   "execution_count": 180,
   "id": "8dd00058-8140-4b26-925d-8f1f255154a8",
   "metadata": {},
   "outputs": [
    {
     "data": {
      "image/png": "[encoded data removed]",
      "text/plain": [
       "<Figure size 640x480 with 1 Axes>"
      ]
     },
     "metadata": {},
     "output_type": "display_data"
    }
   ],
   "source": [
    "#plot the loss graph\n",
    "plt.plot(range(1, epochs+1), losses, marker='o', linestyle='-', color='b')\n",
    "plt.title('Loss Over Epochs')\n",
    "plt.xlabel('Epochs')\n",
    "plt.ylabel('Loss')\n",
    "plt.grid(True)\n",
    "plt.show()"
   ]
  },
  {
   "cell_type": "code",
   "execution_count": 157,
   "id": "5b43095a-6545-41bf-a24b-f8ed4023260a",
   "metadata": {},
   "outputs": [
    {
     "name": "stdout",
     "output_type": "stream",
     "text": [
      "Accuracy: 42.05%\n"
     ]
    }
   ],
   "source": [
    "# Evaluation\n",
    "model.eval()\n",
    "with torch.no_grad():\n",
    "    correct = 0\n",
    "    total = 0\n",
    "    for batch_X, batch_y in test_loader:\n",
    "        outputs = model(batch_X)\n",
    "        _, predicted = torch.max(outputs, 1)\n",
    "        total += batch_y.size(0)\n",
    "        correct += (predicted == batch_y).sum().item()\n",
    "\n",
    "    print(f'Accuracy: {100 * correct / total:.2f}%')"
   ]
  },
  {
   "cell_type": "code",
   "execution_count": 158,
   "id": "2d9a361b-3725-4fe6-b9e5-f207fcc79887",
   "metadata": {},
   "outputs": [],
   "source": [
    "# Import necessary libraries\n",
    "from sklearn.metrics import confusion_matrix, ConfusionMatrixDisplay\n",
    "import matplotlib.pyplot as plt"
   ]
  },
  {
   "cell_type": "code",
   "execution_count": 172,
   "id": "7fe0a984-b7b6-4225-a270-53fcc45225f7",
   "metadata": {},
   "outputs": [],
   "source": [
    "# Activities for the Confusion matrix\n",
    "ACTIVITIES = ['sit', 'walk', 'run', 'jump', 'upstair']"
   ]
  },
  {
   "cell_type": "code",
   "execution_count": 165,
   "id": "91cf3e88-53b8-45c1-8e2f-d7cb2176aa85",
   "metadata": {},
   "outputs": [],
   "source": [
    "# Model evaluation (confusion matrix)\n",
    "model.eval()\n",
    "all_predictions = []\n",
    "all_labels = []"
   ]
  },
  {
   "cell_type": "code",
   "execution_count": 166,
   "id": "b118c00c-1bb7-4c04-aff7-6a43e1d20b27",
   "metadata": {},
   "outputs": [],
   "source": [
    "# Loop through the test loader to collect predictions and true labels\n",
    "with torch.no_grad():\n",
    "    for batch_X, batch_y in test_loader:\n",
    "        outputs = model(batch_X)\n",
    "        _, predicted = torch.max(outputs, 1)\n",
    "        all_predictions.extend(predicted.cpu().numpy())\n",
    "        all_labels.extend(batch_y.cpu().numpy())"
   ]
  },
  {
   "cell_type": "code",
   "execution_count": 170,
   "id": "7685f174-e8f5-4cdb-9b06-cc7f6b2a24f2",
   "metadata": {},
   "outputs": [],
   "source": [
    "# Compute the confusion matrix, explicitly specifying the labels\n",
    "conf_matrix = confusion_matrix(all_labels, all_predictions, labels=[0, 1, 2, 3, 4]) "
   ]
  },
  {
   "cell_type": "code",
   "execution_count": 175,
   "id": "239cd3a4-6893-4837-9e99-6e75db8711f0",
   "metadata": {},
   "outputs": [
    {
     "data": {
      "image/png": "[encoded data removed]",
      "text/plain": [
       "<Figure size 640x480 with 2 Axes>"
      ]
     },
     "metadata": {},
     "output_type": "display_data"
    }
   ],
   "source": [
    "# Display the confusion matrix with appropriate labels\n",
    "disp = ConfusionMatrixDisplay(conf_matrix, display_labels=ACTIVITIES)\n",
    "disp.plot(cmap=plt.cm.Oranges)\n",
    "plt.title(\"Confusion Matrix for Activities\")\n",
    "plt.show()"
   ]
  }
 ],
 "metadata": {
  "kernelspec": {
   "display_name": "Python 3 (ipykernel)",
   "language": "python",
   "name": "python3"
  },
  "language_info": {
   "codemirror_mode": {
    "name": "ipython",
    "version": 3
   },
   "file_extension": ".py",
   "mimetype": "text/x-python",
   "name": "python",
   "nbconvert_exporter": "python",
   "pygments_lexer": "ipython3",
   "version": "3.11.9"
  }
 },
 "nbformat": 4,
 "nbformat_minor": 5
}
